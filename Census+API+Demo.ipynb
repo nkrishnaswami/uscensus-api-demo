{
 "cells": [
  {
   "cell_type": "code",
   "execution_count": 49,
   "metadata": {},
   "outputs": [],
   "source": [
    "%matplotlib inline\n",
    "import matplotlib.pyplot as plt\n",
    "import numpy as np\n",
    "import pandas as pd\n",
    "import qgrid\n",
    "import requests\n",
    "\n",
    "qgrid.nbinstall()"
   ]
  },
  {
   "cell_type": "code",
   "execution_count": 23,
   "metadata": {},
   "outputs": [
    {
     "data": {
      "text/html": [
       "<div>\n",
       "<style>\n",
       "    .dataframe thead tr:only-child th {\n",
       "        text-align: right;\n",
       "    }\n",
       "\n",
       "    .dataframe thead th {\n",
       "        text-align: left;\n",
       "    }\n",
       "\n",
       "    .dataframe tbody tr th {\n",
       "        vertical-align: top;\n",
       "    }\n",
       "</style>\n",
       "<table border=\"1\" class=\"dataframe\">\n",
       "  <thead>\n",
       "    <tr style=\"text-align: right;\">\n",
       "      <th></th>\n",
       "      <th></th>\n",
       "      <th>DENSITY</th>\n",
       "      <th>GEONAME</th>\n",
       "    </tr>\n",
       "    <tr>\n",
       "      <th>state</th>\n",
       "      <th>county</th>\n",
       "      <th></th>\n",
       "      <th></th>\n",
       "    </tr>\n",
       "  </thead>\n",
       "  <tbody>\n",
       "    <tr>\n",
       "      <th rowspan=\"5\" valign=\"top\">01</th>\n",
       "      <th>001</th>\n",
       "      <td>93.107970</td>\n",
       "      <td>Autauga County, Alabama, East South Central, S...</td>\n",
       "    </tr>\n",
       "    <tr>\n",
       "      <th>003</th>\n",
       "      <td>128.134329</td>\n",
       "      <td>Baldwin County, Alabama, East South Central, S...</td>\n",
       "    </tr>\n",
       "    <tr>\n",
       "      <th>005</th>\n",
       "      <td>29.935235</td>\n",
       "      <td>Barbour County, Alabama, East South Central, S...</td>\n",
       "    </tr>\n",
       "    <tr>\n",
       "      <th>007</th>\n",
       "      <td>36.273096</td>\n",
       "      <td>Bibb County, Alabama, East South Central, Sout...</td>\n",
       "    </tr>\n",
       "    <tr>\n",
       "      <th>009</th>\n",
       "      <td>89.442295</td>\n",
       "      <td>Blount County, Alabama, East South Central, So...</td>\n",
       "    </tr>\n",
       "  </tbody>\n",
       "</table>\n",
       "</div>"
      ],
      "text/plain": [
       "                 DENSITY                                            GEONAME\n",
       "state county                                                               \n",
       "01    001      93.107970  Autauga County, Alabama, East South Central, S...\n",
       "      003     128.134329  Baldwin County, Alabama, East South Central, S...\n",
       "      005      29.935235  Barbour County, Alabama, East South Central, S...\n",
       "      007      36.273096  Bibb County, Alabama, East South Central, Sout...\n",
       "      009      89.442295  Blount County, Alabama, East South Central, So..."
      ]
     },
     "execution_count": 23,
     "metadata": {},
     "output_type": "execute_result"
    }
   ],
   "source": [
    "r = requests.get('https://api.census.gov/data/2015/pep/population',\n",
    "            params={\n",
    "                'get': 'DENSITY,GEONAME',\n",
    "                'for': 'county:*',\n",
    "                'in': 'state:*',\n",
    "            })\n",
    "r.raise_for_status()\n",
    "data = r.json()\n",
    "density = pd.DataFrame(data[1:], columns=data[0]).set_index(['state', 'county'])\n",
    "density['DENSITY'] = density['DENSITY'].astype(float)\n",
    "density.head()"
   ]
  },
  {
   "cell_type": "code",
   "execution_count": 24,
   "metadata": {},
   "outputs": [
    {
     "data": {
      "text/html": [
       "<div>\n",
       "<style>\n",
       "    .dataframe thead tr:only-child th {\n",
       "        text-align: right;\n",
       "    }\n",
       "\n",
       "    .dataframe thead th {\n",
       "        text-align: left;\n",
       "    }\n",
       "\n",
       "    .dataframe tbody tr th {\n",
       "        vertical-align: top;\n",
       "    }\n",
       "</style>\n",
       "<table border=\"1\" class=\"dataframe\">\n",
       "  <thead>\n",
       "    <tr style=\"text-align: right;\">\n",
       "      <th></th>\n",
       "      <th></th>\n",
       "      <th>DP04_0045E</th>\n",
       "      <th>DP04_0047E</th>\n",
       "    </tr>\n",
       "    <tr>\n",
       "      <th>state</th>\n",
       "      <th>county</th>\n",
       "      <th></th>\n",
       "      <th></th>\n",
       "    </tr>\n",
       "  </thead>\n",
       "  <tbody>\n",
       "    <tr>\n",
       "      <th rowspan=\"5\" valign=\"top\">01</th>\n",
       "      <th>003</th>\n",
       "      <td>72269</td>\n",
       "      <td>19037</td>\n",
       "    </tr>\n",
       "    <tr>\n",
       "      <th>015</th>\n",
       "      <td>44323</td>\n",
       "      <td>13570</td>\n",
       "    </tr>\n",
       "    <tr>\n",
       "      <th>043</th>\n",
       "      <td>30798</td>\n",
       "      <td>7744</td>\n",
       "    </tr>\n",
       "    <tr>\n",
       "      <th>049</th>\n",
       "      <td>26247</td>\n",
       "      <td>8414</td>\n",
       "    </tr>\n",
       "    <tr>\n",
       "      <th>051</th>\n",
       "      <td>29615</td>\n",
       "      <td>8250</td>\n",
       "    </tr>\n",
       "  </tbody>\n",
       "</table>\n",
       "</div>"
      ],
      "text/plain": [
       "              DP04_0045E  DP04_0047E\n",
       "state county                        \n",
       "01    003          72269       19037\n",
       "      015          44323       13570\n",
       "      043          30798        7744\n",
       "      049          26247        8414\n",
       "      051          29615        8250"
      ]
     },
     "execution_count": 24,
     "metadata": {},
     "output_type": "execute_result"
    }
   ],
   "source": [
    "# From https://api.census.gov/data/2015/acs/acs1/profile/variables.html\n",
    "# DP04_0045E = Estimate!!HOUSING TENURE!!Occupied housing units\n",
    "# DP04_0047E = Estimate!!HOUSING TENURE!!Occupied housing units!!Renter-occupied\n",
    "r = requests.get('https://api.census.gov/data/2015/acs/acs1/profile',\n",
    "            params={\n",
    "                'get': 'DP04_0045E,DP04_0047E',\n",
    "                'for': 'county:*',\n",
    "                'in': 'state:*',\n",
    "            })\n",
    "r.raise_for_status()\n",
    "data = r.json()\n",
    "rental_rate = pd.DataFrame(data[1:], columns=data[0]).set_index(['state', 'county'])\n",
    "rental_rate['DP04_0045E'] = rental_rate['DP04_0045E'].astype(int)\n",
    "rental_rate['DP04_0047E'] = rental_rate['DP04_0047E'].astype(int)\n",
    "rental_rate.head()"
   ]
  },
  {
   "cell_type": "code",
   "execution_count": 28,
   "metadata": {
    "collapsed": true
   },
   "outputs": [],
   "source": [
    "data = density.join(rental_rate, how='inner')"
   ]
  },
  {
   "cell_type": "code",
   "execution_count": 29,
   "metadata": {
    "collapsed": true
   },
   "outputs": [],
   "source": [
    "data['rental_rate'] = data['DP04_0047E'] / data['DP04_0045E']"
   ]
  },
  {
   "cell_type": "code",
   "execution_count": 30,
   "metadata": {},
   "outputs": [
    {
     "data": {
      "text/html": [
       "<div>\n",
       "<style>\n",
       "    .dataframe thead tr:only-child th {\n",
       "        text-align: right;\n",
       "    }\n",
       "\n",
       "    .dataframe thead th {\n",
       "        text-align: left;\n",
       "    }\n",
       "\n",
       "    .dataframe tbody tr th {\n",
       "        vertical-align: top;\n",
       "    }\n",
       "</style>\n",
       "<table border=\"1\" class=\"dataframe\">\n",
       "  <thead>\n",
       "    <tr style=\"text-align: right;\">\n",
       "      <th></th>\n",
       "      <th></th>\n",
       "      <th>DENSITY</th>\n",
       "      <th>GEONAME</th>\n",
       "      <th>DP04_0045E</th>\n",
       "      <th>DP04_0047E</th>\n",
       "      <th>rental_rate</th>\n",
       "    </tr>\n",
       "    <tr>\n",
       "      <th>state</th>\n",
       "      <th>county</th>\n",
       "      <th></th>\n",
       "      <th></th>\n",
       "      <th></th>\n",
       "      <th></th>\n",
       "      <th></th>\n",
       "    </tr>\n",
       "  </thead>\n",
       "  <tbody>\n",
       "    <tr>\n",
       "      <th rowspan=\"5\" valign=\"top\">01</th>\n",
       "      <th>003</th>\n",
       "      <td>128.134329</td>\n",
       "      <td>Baldwin County, Alabama, East South Central, S...</td>\n",
       "      <td>72269</td>\n",
       "      <td>19037</td>\n",
       "      <td>0.263419</td>\n",
       "    </tr>\n",
       "    <tr>\n",
       "      <th>015</th>\n",
       "      <td>190.827012</td>\n",
       "      <td>Calhoun County, Alabama, East South Central, S...</td>\n",
       "      <td>44323</td>\n",
       "      <td>13570</td>\n",
       "      <td>0.306162</td>\n",
       "    </tr>\n",
       "    <tr>\n",
       "      <th>043</th>\n",
       "      <td>111.586940</td>\n",
       "      <td>Cullman County, Alabama, East South Central, S...</td>\n",
       "      <td>30798</td>\n",
       "      <td>7744</td>\n",
       "      <td>0.251445</td>\n",
       "    </tr>\n",
       "    <tr>\n",
       "      <th>049</th>\n",
       "      <td>91.533320</td>\n",
       "      <td>DeKalb County, Alabama, East South Central, So...</td>\n",
       "      <td>26247</td>\n",
       "      <td>8414</td>\n",
       "      <td>0.320570</td>\n",
       "    </tr>\n",
       "    <tr>\n",
       "      <th>051</th>\n",
       "      <td>131.721227</td>\n",
       "      <td>Elmore County, Alabama, East South Central, So...</td>\n",
       "      <td>29615</td>\n",
       "      <td>8250</td>\n",
       "      <td>0.278575</td>\n",
       "    </tr>\n",
       "  </tbody>\n",
       "</table>\n",
       "</div>"
      ],
      "text/plain": [
       "                 DENSITY                                            GEONAME  \\\n",
       "state county                                                                  \n",
       "01    003     128.134329  Baldwin County, Alabama, East South Central, S...   \n",
       "      015     190.827012  Calhoun County, Alabama, East South Central, S...   \n",
       "      043     111.586940  Cullman County, Alabama, East South Central, S...   \n",
       "      049      91.533320  DeKalb County, Alabama, East South Central, So...   \n",
       "      051     131.721227  Elmore County, Alabama, East South Central, So...   \n",
       "\n",
       "              DP04_0045E  DP04_0047E  rental_rate  \n",
       "state county                                       \n",
       "01    003          72269       19037     0.263419  \n",
       "      015          44323       13570     0.306162  \n",
       "      043          30798        7744     0.251445  \n",
       "      049          26247        8414     0.320570  \n",
       "      051          29615        8250     0.278575  "
      ]
     },
     "execution_count": 30,
     "metadata": {},
     "output_type": "execute_result"
    }
   ],
   "source": [
    "data.head()"
   ]
  },
  {
   "cell_type": "code",
   "execution_count": 40,
   "metadata": {
    "scrolled": true
   },
   "outputs": [
    {
     "data": {
      "text/plain": [
       "<matplotlib.axes._subplots.AxesSubplot at 0x7f9fcdeaed30>"
      ]
     },
     "execution_count": 40,
     "metadata": {},
     "output_type": "execute_result"
    },
    {
     "data": {
      "image/png": "[encoded data removed]",
      "text/plain": [
       "<matplotlib.figure.Figure at 0x7f9fcdeae198>"
      ]
     },
     "metadata": {},
     "output_type": "display_data"
    }
   ],
   "source": [
    "data.plot.scatter(y='rental_rate', x='DENSITY')"
   ]
  },
  {
   "cell_type": "code",
   "execution_count": 60,
   "metadata": {},
   "outputs": [
    {
     "name": "stderr",
     "output_type": "stream",
     "text": [
      "/home/natarajan/anaconda3/lib/python3.6/site-packages/ipykernel_launcher.py:1: RuntimeWarning: divide by zero encountered in log\n",
      "  \"\"\"Entry point for launching an IPython kernel.\n"
     ]
    }
   ],
   "source": [
    "data['log_density'] = np.log(data['DENSITY'])"
   ]
  },
  {
   "cell_type": "code",
   "execution_count": 61,
   "metadata": {},
   "outputs": [
    {
     "data": {
      "text/plain": [
       "<matplotlib.axes._subplots.AxesSubplot at 0x7f9fcd1d6ba8>"
      ]
     },
     "execution_count": 61,
     "metadata": {},
     "output_type": "execute_result"
    },
    {
     "data": {
      "image/png": "[encoded data removed]",
      "text/plain": [
       "<matplotlib.figure.Figure at 0x7f9fd8d99630>"
      ]
     },
     "metadata": {},
     "output_type": "display_data"
    }
   ],
   "source": [
    "data.plot.scatter(y='rental_rate', x='log_density')"
   ]
  }
 ],
 "metadata": {
  "kernelspec": {
   "display_name": "Python 3",
   "language": "python",
   "name": "python3"
  },
  "language_info": {
   "codemirror_mode": {
    "name": "ipython",
    "version": 3
   },
   "file_extension": ".py",
   "mimetype": "text/x-python",
   "name": "python",
   "nbconvert_exporter": "python",
   "pygments_lexer": "ipython3",
   "version": "3.6.2"
  }
 },
 "nbformat": 4,
 "nbformat_minor": 2
}
